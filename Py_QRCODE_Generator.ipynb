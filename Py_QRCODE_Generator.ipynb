{
 "cells": [
  {
   "cell_type": "code",
   "execution_count": 8,
   "id": "4c8526c8",
   "metadata": {},
   "outputs": [],
   "source": [
    "# !pip install qrcode"
   ]
  },
  {
   "cell_type": "code",
   "execution_count": 9,
   "id": "2ee66945",
   "metadata": {},
   "outputs": [],
   "source": [
    "import qrcode as qr"
   ]
  },
  {
   "cell_type": "code",
   "execution_count": 10,
   "id": "0a7aff66",
   "metadata": {},
   "outputs": [],
   "source": [
    "img_QR = qr.make(\"https://www.youtube.com/watch?v=iyb38dzetRk\")\n"
   ]
  },
  {
   "cell_type": "code",
   "execution_count": 11,
   "id": "06196969",
   "metadata": {},
   "outputs": [],
   "source": [
    "img_QR.save(\"Artificial_Intelligence.png\")"
   ]
  },
  {
   "cell_type": "code",
   "execution_count": null,
   "id": "b637e0d6",
   "metadata": {},
   "outputs": [],
   "source": []
  },
  {
   "cell_type": "code",
   "execution_count": null,
   "id": "7e09229f",
   "metadata": {},
   "outputs": [],
   "source": []
  },
  {
   "cell_type": "code",
   "execution_count": null,
   "id": "17bd6e28",
   "metadata": {},
   "outputs": [],
   "source": []
  },
  {
   "cell_type": "code",
   "execution_count": 12,
   "id": "46c93dd5",
   "metadata": {},
   "outputs": [],
   "source": [
    "import qrcode"
   ]
  },
  {
   "cell_type": "code",
   "execution_count": 13,
   "id": "bdca42b6",
   "metadata": {},
   "outputs": [],
   "source": [
    "from PIL import Image"
   ]
  },
  {
   "cell_type": "code",
   "execution_count": 14,
   "id": "126da6ed",
   "metadata": {},
   "outputs": [],
   "source": [
    "\n",
    "QR = qrcode.QRCode(version =1 ,box_size =11,border =5,\n",
    "                  error_correction = qrcode.constants.ERROR_CORRECT_H)"
   ]
  },
  {
   "cell_type": "code",
   "execution_count": 15,
   "id": "3934f486",
   "metadata": {},
   "outputs": [],
   "source": [
    "QR.add_data(\"https://www.youtube.com/watch?v=iyb38dzetRk\")"
   ]
  },
  {
   "cell_type": "code",
   "execution_count": 16,
   "id": "b6c44fce",
   "metadata": {},
   "outputs": [],
   "source": [
    "QR.make(fit = True)"
   ]
  },
  {
   "cell_type": "code",
   "execution_count": 17,
   "id": "7c66b409",
   "metadata": {},
   "outputs": [],
   "source": [
    "IMG_QR = QR.make_image(fill_color = \"red\" , back_color = \"black\")"
   ]
  },
  {
   "cell_type": "code",
   "execution_count": 18,
   "id": "2153cd25",
   "metadata": {},
   "outputs": [],
   "source": [
    "IMG_QR.save(\"Artificial_Intelligence.png\")"
   ]
  },
  {
   "cell_type": "code",
   "execution_count": null,
   "id": "7abf120c",
   "metadata": {},
   "outputs": [],
   "source": []
  }
 ],
 "metadata": {
  "kernelspec": {
   "display_name": "Python 3 (ipykernel)",
   "language": "python",
   "name": "python3"
  },
  "language_info": {
   "codemirror_mode": {
    "name": "ipython",
    "version": 3
   },
   "file_extension": ".py",
   "mimetype": "text/x-python",
   "name": "python",
   "nbconvert_exporter": "python",
   "pygments_lexer": "ipython3",
   "version": "3.9.12"
  }
 },
 "nbformat": 4,
 "nbformat_minor": 5
}
